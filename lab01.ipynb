{
 "cells": [
  {
   "cell_type": "code",
   "execution_count": 23,
   "id": "61cd55e2",
   "metadata": {},
   "outputs": [],
   "source": [
    "from PIL import Image\n",
    "import random\n",
    "import numpy as np\n",
    "from fractions import Fraction"
   ]
  },
  {
   "cell_type": "code",
   "execution_count": 30,
   "id": "4c077f97",
   "metadata": {
    "scrolled": true
   },
   "outputs": [
    {
     "data": {
      "text/plain": [
       "array([[ 33,  89, 129,  15, 163,  45, 172,  16,  76,  68],\n",
       "       [ 93, 118, 110, 119, 145, 222,  89, 203, 169, 251],\n",
       "       [ 91, 140,  27,  63, 170, 209,  59,  35,  72,  72],\n",
       "       [ 32,  45, 240, 151, 195,  97,  14,  29, 120, 196],\n",
       "       [207, 153,  58, 250, 124, 201,  24, 128,  24, 193],\n",
       "       [  2,   6, 217,  16, 104,  21,  44,  93,  92, 230],\n",
       "       [ 69, 140, 212, 182,  92, 122, 250, 230,   3, 239],\n",
       "       [ 43,  53, 104,  65,  75,   1, 162, 120, 159,  21],\n",
       "       [ 39, 238, 158,  76,  78, 142, 209,  14,   4,  91],\n",
       "       [203,  54, 131,  75,  10,  13,  48, 197, 108, 167]])"
      ]
     },
     "execution_count": 30,
     "metadata": {},
     "output_type": "execute_result"
    }
   ],
   "source": [
    "r = np.random.randint(0, 255, (10, 10))"
   ]
  },
  {
   "cell_type": "code",
   "execution_count": null,
   "id": "5ec96ae5",
   "metadata": {},
   "outputs": [],
   "source": []
  },
  {
   "cell_type": "code",
   "execution_count": null,
   "id": "b1acf15b",
   "metadata": {},
   "outputs": [],
   "source": []
  },
  {
   "cell_type": "code",
   "execution_count": null,
   "id": "d64f6327",
   "metadata": {},
   "outputs": [],
   "source": []
  },
  {
   "cell_type": "code",
   "execution_count": 9,
   "id": "e0f3d035",
   "metadata": {},
   "outputs": [],
   "source": [
    "# сохраняем изображение\n",
    "# img.save('random_color_pixels.png')\n",
    "\n",
    "# покажем изображение\n",
    "img.show()"
   ]
  },
  {
   "cell_type": "markdown",
   "id": "47fcb78f",
   "metadata": {},
   "source": [
    "## Задачи лабораторной работы №1\n",
    "\n",
    "Демонстрируется результат каждой операции (до и после).  \n",
    "1. Передискретизация (только для бакалавров).\n",
    "    1) Растяжение (интерполяция) изображения в M раз;\n",
    "    2) Сжатие (децимация) изображения в N раз;\n",
    "    3) Передискретизация изображения в K=M/N раз путём растяжения и последующего сжатия (в два прохода);\n",
    "    4) Передискретизация изображения в K раз за один проход."
   ]
  },
  {
   "cell_type": "markdown",
   "id": "d7d9415c",
   "metadata": {},
   "source": [
    "#### 0. Создание изображения"
   ]
  },
  {
   "cell_type": "code",
   "execution_count": 58,
   "id": "990f5d6d",
   "metadata": {},
   "outputs": [],
   "source": [
    "# размеры изображения\n",
    "width = 120\n",
    "height = 90"
   ]
  },
  {
   "cell_type": "code",
   "execution_count": 132,
   "id": "6b04aa98",
   "metadata": {},
   "outputs": [],
   "source": [
    "def create_image(width, height):\n",
    "    # создаем новое изображение\n",
    "    img = Image.new('RGB', (width, height), color='white')\n",
    "    # получаем доступ к пикселям изображения\n",
    "    pixels = img.load()\n",
    "    # создаем матрицу height * width * 3\n",
    "    rgb = np.random.randint(0, 255, (height, width, 3))\n",
    "    # проходим по каждому пикселю и задаем случайный цвет\n",
    "    for i in range(width):\n",
    "        for j in range(height):\n",
    "            pixels[i, j] = (rgb[j, i, 0], rgb[j, i, 1], rgb[j, i, 2])\n",
    "    return img"
   ]
  },
  {
   "cell_type": "code",
   "execution_count": 139,
   "id": "152a343a",
   "metadata": {},
   "outputs": [],
   "source": [
    "img = create_image(120,90)"
   ]
  },
  {
   "cell_type": "code",
   "execution_count": 140,
   "id": "31c95f7f",
   "metadata": {},
   "outputs": [],
   "source": [
    "img.show()"
   ]
  },
  {
   "cell_type": "markdown",
   "id": "fed8431a",
   "metadata": {},
   "source": [
    "#### 1. Растяжение (интерполяция) изображения в M раз;"
   ]
  },
  {
   "cell_type": "code",
   "execution_count": 141,
   "id": "fd50499f",
   "metadata": {},
   "outputs": [],
   "source": [
    "img.show()"
   ]
  },
  {
   "cell_type": "code",
   "execution_count": 142,
   "id": "ccc35a6a",
   "metadata": {},
   "outputs": [],
   "source": [
    "def upsample_img(img, m):\n",
    "    # получаем текущие размеры изображения\n",
    "    width, height = img.size\n",
    "\n",
    "    # создаем новое изображение с увеличенными размерами\n",
    "    new_width = width * m\n",
    "    new_height = height * m\n",
    "    upsampled_img = Image.new('RGB', (new_width, new_height), color='white')\n",
    "\n",
    "    # проходим по каждому пикселю в старом изображении и изменяем интенсивность\n",
    "    for i in range(width):\n",
    "        for j in range(height):\n",
    "            # получаем цвет текущего пикселя\n",
    "            r, g, b = upsampled_img.getpixel((i, j))\n",
    "\n",
    "            # устанавливаем новый цвет пикселя в новом изображении\n",
    "            for k in range(m):\n",
    "                for l in range(m):\n",
    "                    upsampled_img.putpixel((i*m + k, j*m + l), (r,g,b))\n",
    "    return upsampled_img"
   ]
  },
  {
   "cell_type": "code",
   "execution_count": 145,
   "id": "6668283f",
   "metadata": {},
   "outputs": [
    {
     "name": "stdout",
     "output_type": "stream",
     "text": [
      "Original image size: (120, 90); Upsampled image size: (360, 270)\n"
     ]
    }
   ],
   "source": [
    "upsampled_img = upsample_img(img, 3)\n",
    "img.show()\n",
    "upsampled_img.show()\n",
    "print(f\"Original image size: {img.size}; Upsampled image size: {upsampled_img.size}\")"
   ]
  },
  {
   "cell_type": "code",
   "execution_count": 21,
   "id": "860660fd",
   "metadata": {},
   "outputs": [],
   "source": [
    "img.show()"
   ]
  },
  {
   "cell_type": "markdown",
   "id": "53c4dc0b",
   "metadata": {},
   "source": [
    "##### 2. Сжатие (децимация) изображения в N раз;\n",
    "\n",
    "1. Загрузка изображения и получение его размера (ширины и высоты).   \n",
    "2. Вычисление нового размера изображения путем деления текущего размера на N.  \n",
    "3. Создание пустой матрицы пикселей нового размера.  \n",
    "4. Разбиение исходного изображения на блоки размером N x N пикселей.  \n",
    "5. Вычисление среднего значения яркости пикселей в каждом блоке.  \n",
    "6. Заполнение новой матрицы сжатыми блоками пикселей, используя среднее значение яркости пикселей каждого блока.  \n",
    "7. Сохранение нового изображения.  "
   ]
  },
  {
   "cell_type": "code",
   "execution_count": 135,
   "id": "1f1fd033",
   "metadata": {},
   "outputs": [],
   "source": [
    "# img = create_image(1000, 500)"
   ]
  },
  {
   "cell_type": "code",
   "execution_count": 177,
   "id": "6da8cf22",
   "metadata": {},
   "outputs": [],
   "source": [
    "def downsample_img(img, N):\n",
    "    # загрузка изображения и получение его размера\n",
    "    width, height = img.size\n",
    "\n",
    "    # вычисление нового размера изображения\n",
    "    new_width = width // N\n",
    "    new_height = height // N\n",
    "\n",
    "    downsampled_img = Image.new('RGB', (new_width, new_height), color='white')\n",
    "    # создание пустой матрицы пикселей нового размера\n",
    "    new_pixels = downsampled_img.load()\n",
    "    # разбиение исходного изображения на блоки размером N x N пикселей\n",
    "    for i in range(new_height):\n",
    "        for j in range(new_width):\n",
    "            # вычисление среднего значения (r, g ,b) пикселей в каждом блоке\n",
    "            x = i * N\n",
    "            y = j * N\n",
    "            block = np.array(img.crop((y, x, y + N, x + N)))\n",
    "            red, green, blue = list(), list(), list()\n",
    "            #print(block)\n",
    "            for k in range(N):\n",
    "                for m in range(N):\n",
    "                    red.append(block[k, m, 0])\n",
    "                    green.append(block[k, m, 1])\n",
    "                    blue.append(block[k, m, 2])\n",
    "\n",
    "            r = int(np.mean(red))\n",
    "            g = int(np.mean(green))\n",
    "            b = int(np.mean(blue))\n",
    "\n",
    "            # заполнение новой матрицы сжатыми блоками пикселей\n",
    "            new_pixels[j, i] = (r, g, b)\n",
    "\n",
    "    #сохранение нового изображения\n",
    "    # downsampled_img.save('compressed_img.png')\n",
    "    return downsampled_img"
   ]
  },
  {
   "cell_type": "code",
   "execution_count": 178,
   "id": "e0cb7a60",
   "metadata": {},
   "outputs": [
    {
     "name": "stdout",
     "output_type": "stream",
     "text": [
      "Original image size: (120, 90); Downsampled image size: (40, 30)\n"
     ]
    }
   ],
   "source": [
    "downsampled_img = downsample_img(img, 3)\n",
    "print(f\"Original image size: {img.size}; Downsampled image size: {downsampled_img.size}\")\n",
    "img.show()\n",
    "downsampled_img.show()"
   ]
  },
  {
   "cell_type": "markdown",
   "id": "1cd09c73",
   "metadata": {},
   "source": [
    "##### 3. Передискретизация изображения в K=M/N раз путём растяжения и последующего сжатия (в два прохода);"
   ]
  },
  {
   "cell_type": "code",
   "execution_count": 184,
   "id": "17d0bbdd",
   "metadata": {},
   "outputs": [],
   "source": [
    "def resampling(img, k):\n",
    "    frac = Fraction(k).limit_denominator()\n",
    "    M = frac.numerator\n",
    "    N = frac.denominator\n",
    "    upsampled_img = upsample_img(img, M)\n",
    "    downsampled_img = downsample_img(upsampled_img, N)\n",
    "    return downsampled_img"
   ]
  },
  {
   "cell_type": "code",
   "execution_count": 185,
   "id": "6110ec8e",
   "metadata": {},
   "outputs": [],
   "source": [
    "img = create_image(120, 90)"
   ]
  },
  {
   "cell_type": "code",
   "execution_count": 191,
   "id": "08b7ee9d",
   "metadata": {},
   "outputs": [
    {
     "name": "stdout",
     "output_type": "stream",
     "text": [
      "Original image size: (120, 90); Downsampled image size: (300, 225)\n"
     ]
    }
   ],
   "source": [
    "resampled_img = resampling(img, 2.5)\n",
    "img.show(title = 'original')\n",
    "resampled_img.show('resampled')\n",
    "print(f\"Original image size: {img.size}; Downsampled image size: {resampled_img.size}\")"
   ]
  },
  {
   "cell_type": "markdown",
   "id": "f53a6328",
   "metadata": {},
   "source": [
    "#### 4. Передискретизация изображения в K раз за один проход."
   ]
  },
  {
   "cell_type": "code",
   "execution_count": null,
   "id": "511a1b6f",
   "metadata": {},
   "outputs": [],
   "source": []
  },
  {
   "cell_type": "code",
   "execution_count": null,
   "id": "155c3a50",
   "metadata": {},
   "outputs": [],
   "source": []
  },
  {
   "cell_type": "code",
   "execution_count": null,
   "id": "96a721d8",
   "metadata": {},
   "outputs": [],
   "source": []
  },
  {
   "cell_type": "code",
   "execution_count": null,
   "id": "d562a6cd",
   "metadata": {},
   "outputs": [],
   "source": []
  }
 ],
 "metadata": {
  "kernelspec": {
   "display_name": "Python 3 (ipykernel)",
   "language": "python",
   "name": "python3"
  },
  "language_info": {
   "codemirror_mode": {
    "name": "ipython",
    "version": 3
   },
   "file_extension": ".py",
   "mimetype": "text/x-python",
   "name": "python",
   "nbconvert_exporter": "python",
   "pygments_lexer": "ipython3",
   "version": "3.9.15"
  }
 },
 "nbformat": 4,
 "nbformat_minor": 5
}
